{
 "cells": [
  {
   "cell_type": "code",
   "execution_count": 1,
   "metadata": {},
   "outputs": [],
   "source": [
    "import pandas as pd"
   ]
  },
  {
   "cell_type": "code",
   "execution_count": 3,
   "metadata": {},
   "outputs": [],
   "source": [
    "# freq of house fires\n",
    "from io import StringIO\n",
    "\n",
    "# https://datacommons.org/place/country/USA?category=Housing\n",
    "housing_units = \"\"\"year,units\n",
    "2020,139992727\n",
    "2019,138989822\n",
    "2018,137947451\n",
    "2017,136960864\n",
    "2016,135626643\n",
    "2015,134922477\n",
    "2014,134294644\n",
    "2013,133582681\n",
    "2012,133139387\n",
    "2011,132535275\"\"\"\n",
    "\n",
    "housing_units = pd.read_csv(StringIO(housing_units), dtype={\"year\": int, \"units\": int})\n",
    "\n",
    "# https://www.nfpa.org/News-and-Research/Data-research-and-tools/Building-and-Life-Safety/Home-Structure-Fires\n",
    "mean_annual_fires_2016_2020 = 343100\n",
    "\n",
    "\n",
    "fire_freq = mean_annual_fires_2016_2020 / housing_units[housing_units['year'] >= 2016][\"units\"].mean()"
   ]
  },
  {
   "cell_type": "code",
   "execution_count": 4,
   "metadata": {},
   "outputs": [
    {
     "data": {
      "text/plain": [
       "0.002487971636084941"
      ]
     },
     "execution_count": 4,
     "metadata": {},
     "output_type": "execute_result"
    }
   ],
   "source": [
    "fire_freq"
   ]
  },
  {
   "cell_type": "code",
   "execution_count": 37,
   "metadata": {},
   "outputs": [],
   "source": [
    "CAUSE_CODE_MAP = {\n",
    "    4: \"Heating\",\n",
    "    5: \"Cooking\",\n",
    "    8: \"Open Flame\",\n",
    "    11: \"Natural\",\n",
    "    15: \"Appliances\",\n",
    "}"
   ]
  },
  {
   "cell_type": "code",
   "execution_count": 43,
   "metadata": {},
   "outputs": [
    {
     "name": "stderr",
     "output_type": "stream",
     "text": [
      "/tmp/ipykernel_67425/2812441966.py:1: DtypeWarning: Columns (2,4) have mixed types. Specify dtype option on import or set low_memory=False.\n",
      "  fire_sources = pd.read_csv(\n"
     ]
    }
   ],
   "source": [
    "# https://www.fema.gov/about/openfema/data-sets/fema-usfa-nfirs-annual-data\n",
    "fire_sources = pd.read_csv(\n",
    "    \"nfirs_all_incident_pdr_2021/nfirs/causes.txt\", sep=\"^\"\n",
    ")\n",
    "fire_sources[\"CAUSE_CODE\"] = fire_sources[\"CAUSE_CODE\"].map(CAUSE_CODE_MAP).fillna(\"Other\")"
   ]
  },
  {
   "cell_type": "code",
   "execution_count": 50,
   "metadata": {},
   "outputs": [
    {
     "data": {
      "text/plain": [
       "CAUSE_CODE\n",
       "Cooking       0.627878\n",
       "Appliances    0.141536\n",
       "Heating       0.123720\n",
       "Open Flame    0.075164\n",
       "Natural       0.031702\n",
       "Name: proportion, dtype: float64"
      ]
     },
     "execution_count": 50,
     "metadata": {},
     "output_type": "execute_result"
    }
   ],
   "source": [
    "fire_sources[fire_sources != \"Other\"][\"CAUSE_CODE\"].value_counts(normalize=True)"
   ]
  }
 ],
 "metadata": {
  "kernelspec": {
   "display_name": ".venv",
   "language": "python",
   "name": "python3"
  },
  "language_info": {
   "codemirror_mode": {
    "name": "ipython",
    "version": 3
   },
   "file_extension": ".py",
   "mimetype": "text/x-python",
   "name": "python",
   "nbconvert_exporter": "python",
   "pygments_lexer": "ipython3",
   "version": "3.11.3"
  },
  "orig_nbformat": 4
 },
 "nbformat": 4,
 "nbformat_minor": 2
}
